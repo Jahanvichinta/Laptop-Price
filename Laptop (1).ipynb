{
 "cells": [
  {
   "cell_type": "code",
   "execution_count": 1,
   "id": "bce97f57-3d2e-48fd-a99a-c4042e95bee3",
   "metadata": {},
   "outputs": [
    {
     "data": {
      "text/html": [
       "<div>\n",
       "<style scoped>\n",
       "    .dataframe tbody tr th:only-of-type {\n",
       "        vertical-align: middle;\n",
       "    }\n",
       "\n",
       "    .dataframe tbody tr th {\n",
       "        vertical-align: top;\n",
       "    }\n",
       "\n",
       "    .dataframe thead th {\n",
       "        text-align: right;\n",
       "    }\n",
       "</style>\n",
       "<table border=\"1\" class=\"dataframe\">\n",
       "  <thead>\n",
       "    <tr style=\"text-align: right;\">\n",
       "      <th></th>\n",
       "      <th>Unnamed: 0.1</th>\n",
       "      <th>Unnamed: 0</th>\n",
       "      <th>Company</th>\n",
       "      <th>TypeName</th>\n",
       "      <th>Inches</th>\n",
       "      <th>ScreenResolution</th>\n",
       "      <th>Cpu</th>\n",
       "      <th>Ram</th>\n",
       "      <th>Memory</th>\n",
       "      <th>Gpu</th>\n",
       "      <th>OpSys</th>\n",
       "      <th>Weight</th>\n",
       "      <th>Price</th>\n",
       "    </tr>\n",
       "  </thead>\n",
       "  <tbody>\n",
       "    <tr>\n",
       "      <th>0</th>\n",
       "      <td>0</td>\n",
       "      <td>0.0</td>\n",
       "      <td>Apple</td>\n",
       "      <td>Ultrabook</td>\n",
       "      <td>13.3</td>\n",
       "      <td>IPS Panel Retina Display 2560x1600</td>\n",
       "      <td>Intel Core i5 2.3GHz</td>\n",
       "      <td>8GB</td>\n",
       "      <td>128GB SSD</td>\n",
       "      <td>Intel Iris Plus Graphics 640</td>\n",
       "      <td>macOS</td>\n",
       "      <td>1.37kg</td>\n",
       "      <td>71378.6832</td>\n",
       "    </tr>\n",
       "    <tr>\n",
       "      <th>1</th>\n",
       "      <td>1</td>\n",
       "      <td>1.0</td>\n",
       "      <td>Apple</td>\n",
       "      <td>Ultrabook</td>\n",
       "      <td>13.3</td>\n",
       "      <td>1440x900</td>\n",
       "      <td>Intel Core i5 1.8GHz</td>\n",
       "      <td>8GB</td>\n",
       "      <td>128GB Flash Storage</td>\n",
       "      <td>Intel HD Graphics 6000</td>\n",
       "      <td>macOS</td>\n",
       "      <td>1.34kg</td>\n",
       "      <td>47895.5232</td>\n",
       "    </tr>\n",
       "    <tr>\n",
       "      <th>2</th>\n",
       "      <td>2</td>\n",
       "      <td>2.0</td>\n",
       "      <td>HP</td>\n",
       "      <td>Notebook</td>\n",
       "      <td>15.6</td>\n",
       "      <td>Full HD 1920x1080</td>\n",
       "      <td>Intel Core i5 7200U 2.5GHz</td>\n",
       "      <td>8GB</td>\n",
       "      <td>256GB SSD</td>\n",
       "      <td>Intel HD Graphics 620</td>\n",
       "      <td>No OS</td>\n",
       "      <td>1.86kg</td>\n",
       "      <td>30636.0000</td>\n",
       "    </tr>\n",
       "    <tr>\n",
       "      <th>3</th>\n",
       "      <td>3</td>\n",
       "      <td>3.0</td>\n",
       "      <td>Apple</td>\n",
       "      <td>Ultrabook</td>\n",
       "      <td>15.4</td>\n",
       "      <td>IPS Panel Retina Display 2880x1800</td>\n",
       "      <td>Intel Core i7 2.7GHz</td>\n",
       "      <td>16GB</td>\n",
       "      <td>512GB SSD</td>\n",
       "      <td>AMD Radeon Pro 455</td>\n",
       "      <td>macOS</td>\n",
       "      <td>1.83kg</td>\n",
       "      <td>135195.3360</td>\n",
       "    </tr>\n",
       "    <tr>\n",
       "      <th>4</th>\n",
       "      <td>4</td>\n",
       "      <td>4.0</td>\n",
       "      <td>Apple</td>\n",
       "      <td>Ultrabook</td>\n",
       "      <td>13.3</td>\n",
       "      <td>IPS Panel Retina Display 2560x1600</td>\n",
       "      <td>Intel Core i5 3.1GHz</td>\n",
       "      <td>8GB</td>\n",
       "      <td>256GB SSD</td>\n",
       "      <td>Intel Iris Plus Graphics 650</td>\n",
       "      <td>macOS</td>\n",
       "      <td>1.37kg</td>\n",
       "      <td>96095.8080</td>\n",
       "    </tr>\n",
       "  </tbody>\n",
       "</table>\n",
       "</div>"
      ],
      "text/plain": [
       "   Unnamed: 0.1  Unnamed: 0 Company   TypeName Inches  \\\n",
       "0             0         0.0   Apple  Ultrabook   13.3   \n",
       "1             1         1.0   Apple  Ultrabook   13.3   \n",
       "2             2         2.0      HP   Notebook   15.6   \n",
       "3             3         3.0   Apple  Ultrabook   15.4   \n",
       "4             4         4.0   Apple  Ultrabook   13.3   \n",
       "\n",
       "                     ScreenResolution                         Cpu   Ram  \\\n",
       "0  IPS Panel Retina Display 2560x1600        Intel Core i5 2.3GHz   8GB   \n",
       "1                            1440x900        Intel Core i5 1.8GHz   8GB   \n",
       "2                   Full HD 1920x1080  Intel Core i5 7200U 2.5GHz   8GB   \n",
       "3  IPS Panel Retina Display 2880x1800        Intel Core i7 2.7GHz  16GB   \n",
       "4  IPS Panel Retina Display 2560x1600        Intel Core i5 3.1GHz   8GB   \n",
       "\n",
       "                Memory                           Gpu  OpSys  Weight  \\\n",
       "0            128GB SSD  Intel Iris Plus Graphics 640  macOS  1.37kg   \n",
       "1  128GB Flash Storage        Intel HD Graphics 6000  macOS  1.34kg   \n",
       "2            256GB SSD         Intel HD Graphics 620  No OS  1.86kg   \n",
       "3            512GB SSD            AMD Radeon Pro 455  macOS  1.83kg   \n",
       "4            256GB SSD  Intel Iris Plus Graphics 650  macOS  1.37kg   \n",
       "\n",
       "         Price  \n",
       "0   71378.6832  \n",
       "1   47895.5232  \n",
       "2   30636.0000  \n",
       "3  135195.3360  \n",
       "4   96095.8080  "
      ]
     },
     "execution_count": 1,
     "metadata": {},
     "output_type": "execute_result"
    }
   ],
   "source": [
    "import pandas as pd\n",
    "import numpy as np\n",
    "import matplotlib.pyplot as plt\n",
    "import seaborn as sns\n",
    "import zipfile\n",
    "with zipfile.ZipFile('C:/Users/jahna/Downloads/4003759-laptop.zip','r') as ext_all:\n",
    "    with ext_all.open('laptop.csv') as f:\n",
    "        df=pd.read_csv(f)\n",
    "        \n",
    "df.head()"
   ]
  },
  {
   "cell_type": "code",
   "execution_count": 2,
   "id": "950963bf-7504-4593-9741-1c66384caec7",
   "metadata": {},
   "outputs": [
    {
     "data": {
      "text/html": [
       "<div>\n",
       "<style scoped>\n",
       "    .dataframe tbody tr th:only-of-type {\n",
       "        vertical-align: middle;\n",
       "    }\n",
       "\n",
       "    .dataframe tbody tr th {\n",
       "        vertical-align: top;\n",
       "    }\n",
       "\n",
       "    .dataframe thead th {\n",
       "        text-align: right;\n",
       "    }\n",
       "</style>\n",
       "<table border=\"1\" class=\"dataframe\">\n",
       "  <thead>\n",
       "    <tr style=\"text-align: right;\">\n",
       "      <th></th>\n",
       "      <th>Company</th>\n",
       "      <th>TypeName</th>\n",
       "      <th>Inches</th>\n",
       "      <th>ScreenResolution</th>\n",
       "      <th>Cpu</th>\n",
       "      <th>Ram</th>\n",
       "      <th>Memory</th>\n",
       "      <th>Gpu</th>\n",
       "      <th>OpSys</th>\n",
       "      <th>Weight</th>\n",
       "      <th>Price</th>\n",
       "    </tr>\n",
       "  </thead>\n",
       "  <tbody>\n",
       "    <tr>\n",
       "      <th>0</th>\n",
       "      <td>Apple</td>\n",
       "      <td>Ultrabook</td>\n",
       "      <td>13.3</td>\n",
       "      <td>IPS Panel Retina Display 2560x1600</td>\n",
       "      <td>Intel Core i5 2.3GHz</td>\n",
       "      <td>8GB</td>\n",
       "      <td>128GB SSD</td>\n",
       "      <td>Intel Iris Plus Graphics 640</td>\n",
       "      <td>macOS</td>\n",
       "      <td>1.37kg</td>\n",
       "      <td>71378.6832</td>\n",
       "    </tr>\n",
       "    <tr>\n",
       "      <th>1</th>\n",
       "      <td>Apple</td>\n",
       "      <td>Ultrabook</td>\n",
       "      <td>13.3</td>\n",
       "      <td>1440x900</td>\n",
       "      <td>Intel Core i5 1.8GHz</td>\n",
       "      <td>8GB</td>\n",
       "      <td>128GB Flash Storage</td>\n",
       "      <td>Intel HD Graphics 6000</td>\n",
       "      <td>macOS</td>\n",
       "      <td>1.34kg</td>\n",
       "      <td>47895.5232</td>\n",
       "    </tr>\n",
       "    <tr>\n",
       "      <th>2</th>\n",
       "      <td>HP</td>\n",
       "      <td>Notebook</td>\n",
       "      <td>15.6</td>\n",
       "      <td>Full HD 1920x1080</td>\n",
       "      <td>Intel Core i5 7200U 2.5GHz</td>\n",
       "      <td>8GB</td>\n",
       "      <td>256GB SSD</td>\n",
       "      <td>Intel HD Graphics 620</td>\n",
       "      <td>No OS</td>\n",
       "      <td>1.86kg</td>\n",
       "      <td>30636.0000</td>\n",
       "    </tr>\n",
       "    <tr>\n",
       "      <th>3</th>\n",
       "      <td>Apple</td>\n",
       "      <td>Ultrabook</td>\n",
       "      <td>15.4</td>\n",
       "      <td>IPS Panel Retina Display 2880x1800</td>\n",
       "      <td>Intel Core i7 2.7GHz</td>\n",
       "      <td>16GB</td>\n",
       "      <td>512GB SSD</td>\n",
       "      <td>AMD Radeon Pro 455</td>\n",
       "      <td>macOS</td>\n",
       "      <td>1.83kg</td>\n",
       "      <td>135195.3360</td>\n",
       "    </tr>\n",
       "    <tr>\n",
       "      <th>4</th>\n",
       "      <td>Apple</td>\n",
       "      <td>Ultrabook</td>\n",
       "      <td>13.3</td>\n",
       "      <td>IPS Panel Retina Display 2560x1600</td>\n",
       "      <td>Intel Core i5 3.1GHz</td>\n",
       "      <td>8GB</td>\n",
       "      <td>256GB SSD</td>\n",
       "      <td>Intel Iris Plus Graphics 650</td>\n",
       "      <td>macOS</td>\n",
       "      <td>1.37kg</td>\n",
       "      <td>96095.8080</td>\n",
       "    </tr>\n",
       "  </tbody>\n",
       "</table>\n",
       "</div>"
      ],
      "text/plain": [
       "  Company   TypeName Inches                    ScreenResolution  \\\n",
       "0   Apple  Ultrabook   13.3  IPS Panel Retina Display 2560x1600   \n",
       "1   Apple  Ultrabook   13.3                            1440x900   \n",
       "2      HP   Notebook   15.6                   Full HD 1920x1080   \n",
       "3   Apple  Ultrabook   15.4  IPS Panel Retina Display 2880x1800   \n",
       "4   Apple  Ultrabook   13.3  IPS Panel Retina Display 2560x1600   \n",
       "\n",
       "                          Cpu   Ram               Memory  \\\n",
       "0        Intel Core i5 2.3GHz   8GB            128GB SSD   \n",
       "1        Intel Core i5 1.8GHz   8GB  128GB Flash Storage   \n",
       "2  Intel Core i5 7200U 2.5GHz   8GB            256GB SSD   \n",
       "3        Intel Core i7 2.7GHz  16GB            512GB SSD   \n",
       "4        Intel Core i5 3.1GHz   8GB            256GB SSD   \n",
       "\n",
       "                            Gpu  OpSys  Weight        Price  \n",
       "0  Intel Iris Plus Graphics 640  macOS  1.37kg   71378.6832  \n",
       "1        Intel HD Graphics 6000  macOS  1.34kg   47895.5232  \n",
       "2         Intel HD Graphics 620  No OS  1.86kg   30636.0000  \n",
       "3            AMD Radeon Pro 455  macOS  1.83kg  135195.3360  \n",
       "4  Intel Iris Plus Graphics 650  macOS  1.37kg   96095.8080  "
      ]
     },
     "execution_count": 2,
     "metadata": {},
     "output_type": "execute_result"
    }
   ],
   "source": [
    "df=df.drop(['Unnamed: 0.1','Unnamed: 0'],axis=1)\n",
    "df.head()"
   ]
  },
  {
   "cell_type": "code",
   "execution_count": 3,
   "id": "ab6c35d9-3458-4d1a-9419-3d531479ed60",
   "metadata": {},
   "outputs": [
    {
     "name": "stdout",
     "output_type": "stream",
     "text": [
      "52161.12\n"
     ]
    }
   ],
   "source": [
    "df = df.dropna(subset=['Price'])\n",
    "median_price = df['Price'].median()\n",
    "print(median_price)"
   ]
  },
  {
   "cell_type": "code",
   "execution_count": 4,
   "id": "2b90de09-3690-48bd-9784-f3a7d7416873",
   "metadata": {},
   "outputs": [
    {
     "data": {
      "text/html": [
       "<div>\n",
       "<style scoped>\n",
       "    .dataframe tbody tr th:only-of-type {\n",
       "        vertical-align: middle;\n",
       "    }\n",
       "\n",
       "    .dataframe tbody tr th {\n",
       "        vertical-align: top;\n",
       "    }\n",
       "\n",
       "    .dataframe thead th {\n",
       "        text-align: right;\n",
       "    }\n",
       "</style>\n",
       "<table border=\"1\" class=\"dataframe\">\n",
       "  <thead>\n",
       "    <tr style=\"text-align: right;\">\n",
       "      <th></th>\n",
       "      <th>Company</th>\n",
       "      <th>TypeName</th>\n",
       "      <th>Inches</th>\n",
       "      <th>ScreenResolution</th>\n",
       "      <th>Cpu</th>\n",
       "      <th>Ram</th>\n",
       "      <th>Memory</th>\n",
       "      <th>Gpu</th>\n",
       "      <th>OpSys</th>\n",
       "      <th>Weight</th>\n",
       "      <th>Price</th>\n",
       "    </tr>\n",
       "  </thead>\n",
       "  <tbody>\n",
       "    <tr>\n",
       "      <th>0</th>\n",
       "      <td>Apple</td>\n",
       "      <td>Ultrabook</td>\n",
       "      <td>13.3</td>\n",
       "      <td>IPS Panel Retina Display 2560x1600</td>\n",
       "      <td>Intel Core i5 2.3GHz</td>\n",
       "      <td>8</td>\n",
       "      <td>128GB SSD</td>\n",
       "      <td>Intel Iris Plus Graphics 640</td>\n",
       "      <td>macOS</td>\n",
       "      <td>1.37</td>\n",
       "      <td>71378.6832</td>\n",
       "    </tr>\n",
       "    <tr>\n",
       "      <th>1</th>\n",
       "      <td>Apple</td>\n",
       "      <td>Ultrabook</td>\n",
       "      <td>13.3</td>\n",
       "      <td>1440x900</td>\n",
       "      <td>Intel Core i5 1.8GHz</td>\n",
       "      <td>8</td>\n",
       "      <td>128GB Flash Storage</td>\n",
       "      <td>Intel HD Graphics 6000</td>\n",
       "      <td>macOS</td>\n",
       "      <td>1.34</td>\n",
       "      <td>47895.5232</td>\n",
       "    </tr>\n",
       "    <tr>\n",
       "      <th>2</th>\n",
       "      <td>HP</td>\n",
       "      <td>Notebook</td>\n",
       "      <td>15.6</td>\n",
       "      <td>Full HD 1920x1080</td>\n",
       "      <td>Intel Core i5 7200U 2.5GHz</td>\n",
       "      <td>8</td>\n",
       "      <td>256GB SSD</td>\n",
       "      <td>Intel HD Graphics 620</td>\n",
       "      <td>No OS</td>\n",
       "      <td>1.86</td>\n",
       "      <td>30636.0000</td>\n",
       "    </tr>\n",
       "    <tr>\n",
       "      <th>3</th>\n",
       "      <td>Apple</td>\n",
       "      <td>Ultrabook</td>\n",
       "      <td>15.4</td>\n",
       "      <td>IPS Panel Retina Display 2880x1800</td>\n",
       "      <td>Intel Core i7 2.7GHz</td>\n",
       "      <td>16</td>\n",
       "      <td>512GB SSD</td>\n",
       "      <td>AMD Radeon Pro 455</td>\n",
       "      <td>macOS</td>\n",
       "      <td>1.83</td>\n",
       "      <td>135195.3360</td>\n",
       "    </tr>\n",
       "    <tr>\n",
       "      <th>4</th>\n",
       "      <td>Apple</td>\n",
       "      <td>Ultrabook</td>\n",
       "      <td>13.3</td>\n",
       "      <td>IPS Panel Retina Display 2560x1600</td>\n",
       "      <td>Intel Core i5 3.1GHz</td>\n",
       "      <td>8</td>\n",
       "      <td>256GB SSD</td>\n",
       "      <td>Intel Iris Plus Graphics 650</td>\n",
       "      <td>macOS</td>\n",
       "      <td>1.37</td>\n",
       "      <td>96095.8080</td>\n",
       "    </tr>\n",
       "  </tbody>\n",
       "</table>\n",
       "</div>"
      ],
      "text/plain": [
       "  Company   TypeName Inches                    ScreenResolution  \\\n",
       "0   Apple  Ultrabook   13.3  IPS Panel Retina Display 2560x1600   \n",
       "1   Apple  Ultrabook   13.3                            1440x900   \n",
       "2      HP   Notebook   15.6                   Full HD 1920x1080   \n",
       "3   Apple  Ultrabook   15.4  IPS Panel Retina Display 2880x1800   \n",
       "4   Apple  Ultrabook   13.3  IPS Panel Retina Display 2560x1600   \n",
       "\n",
       "                          Cpu  Ram               Memory  \\\n",
       "0        Intel Core i5 2.3GHz   8             128GB SSD   \n",
       "1        Intel Core i5 1.8GHz   8   128GB Flash Storage   \n",
       "2  Intel Core i5 7200U 2.5GHz   8             256GB SSD   \n",
       "3        Intel Core i7 2.7GHz  16             512GB SSD   \n",
       "4        Intel Core i5 3.1GHz   8             256GB SSD   \n",
       "\n",
       "                            Gpu  OpSys Weight        Price  \n",
       "0  Intel Iris Plus Graphics 640  macOS  1.37    71378.6832  \n",
       "1        Intel HD Graphics 6000  macOS  1.34    47895.5232  \n",
       "2         Intel HD Graphics 620  No OS  1.86    30636.0000  \n",
       "3            AMD Radeon Pro 455  macOS  1.83   135195.3360  \n",
       "4  Intel Iris Plus Graphics 650  macOS  1.37    96095.8080  "
      ]
     },
     "execution_count": 4,
     "metadata": {},
     "output_type": "execute_result"
    }
   ],
   "source": [
    "df['Weight']=df['Weight'].str.replace('kg',' ')\n",
    "df['Ram']=df['Ram'].str.replace('GB',' ')\n",
    "df.head()"
   ]
  },
  {
   "cell_type": "code",
   "execution_count": 5,
   "id": "145326f2-c287-4278-a9e8-821ac9dfa157",
   "metadata": {},
   "outputs": [
    {
     "data": {
      "text/plain": [
       "Company              object\n",
       "TypeName             object\n",
       "Inches               object\n",
       "ScreenResolution     object\n",
       "Cpu                  object\n",
       "Ram                  object\n",
       "Memory               object\n",
       "Gpu                  object\n",
       "OpSys                object\n",
       "Weight               object\n",
       "Price               float64\n",
       "dtype: object"
      ]
     },
     "execution_count": 5,
     "metadata": {},
     "output_type": "execute_result"
    }
   ],
   "source": [
    "df.dtypes"
   ]
  },
  {
   "cell_type": "code",
   "execution_count": 6,
   "id": "28c2a5de-6c34-4a9a-a914-c8cd4eb0d17c",
   "metadata": {},
   "outputs": [
    {
     "data": {
      "text/plain": [
       "Inches\n",
       "15.6    640\n",
       "14      192\n",
       "17.3    162\n",
       "13.3    161\n",
       "12.5     38\n",
       "11.6     31\n",
       "12        6\n",
       "13.9      6\n",
       "13.5      5\n",
       "12.3      5\n",
       "15.4      4\n",
       "15        4\n",
       "35.6      3\n",
       "10.1      3\n",
       "24        2\n",
       "13        2\n",
       "18.4      1\n",
       "27.3      1\n",
       "33.5      1\n",
       "?         1\n",
       "31.6      1\n",
       "17        1\n",
       "14.1      1\n",
       "11.3      1\n",
       "25.6      1\n",
       "Name: count, dtype: int64"
      ]
     },
     "execution_count": 6,
     "metadata": {},
     "output_type": "execute_result"
    }
   ],
   "source": [
    "df['Inches'].value_counts()"
   ]
  },
  {
   "cell_type": "code",
   "execution_count": 7,
   "id": "b2ac328b-907e-4420-9e44-0d2a7343a794",
   "metadata": {},
   "outputs": [
    {
     "data": {
      "text/plain": [
       "Company              object\n",
       "TypeName             object\n",
       "Inches              float64\n",
       "ScreenResolution     object\n",
       "Cpu                  object\n",
       "Ram                   int64\n",
       "Memory               object\n",
       "Gpu                  object\n",
       "OpSys                object\n",
       "Weight              float64\n",
       "Price               float64\n",
       "dtype: object"
      ]
     },
     "execution_count": 7,
     "metadata": {},
     "output_type": "execute_result"
    }
   ],
   "source": [
    "df['Weight']=pd.to_numeric(df['Weight'], errors='coerce')\n",
    "df['Ram']=pd.to_numeric(df['Ram'],errors='coerce')\n",
    "df['Inches']=pd.to_numeric(df['Inches'], errors='coerce')\n",
    "df.dtypes"
   ]
  },
  {
   "cell_type": "code",
   "execution_count": 8,
   "id": "5d380ee9-3898-4d4d-9a1e-09a70aab41be",
   "metadata": {},
   "outputs": [
    {
     "data": {
      "text/plain": [
       "TypeName\n",
       "Notebook              710\n",
       "Gaming                203\n",
       "Ultrabook             191\n",
       "2 in 1 Convertible    116\n",
       "Workstation            29\n",
       "Netbook                24\n",
       "Name: count, dtype: int64"
      ]
     },
     "execution_count": 8,
     "metadata": {},
     "output_type": "execute_result"
    }
   ],
   "source": [
    "df['TypeName'].value_counts()"
   ]
  },
  {
   "cell_type": "code",
   "execution_count": 9,
   "id": "1557335c-fb56-45a7-bf15-a5ff60cc8c7b",
   "metadata": {},
   "outputs": [
    {
     "data": {
      "text/plain": [
       "OpSys\n",
       "Windows 10      1047\n",
       "No OS             63\n",
       "Linux             61\n",
       "Windows 7         45\n",
       "Chrome OS         27\n",
       "macOS             13\n",
       "Mac OS X           8\n",
       "Windows 10 S       8\n",
       "Android            1\n",
       "Name: count, dtype: int64"
      ]
     },
     "execution_count": 9,
     "metadata": {},
     "output_type": "execute_result"
    }
   ],
   "source": [
    "df['OpSys'].value_counts()"
   ]
  },
  {
   "cell_type": "code",
   "execution_count": 10,
   "id": "48894833-472a-44d4-b01d-199087be3f36",
   "metadata": {},
   "outputs": [
    {
     "data": {
      "text/plain": [
       "<Axes: xlabel='Company'>"
      ]
     },
     "execution_count": 10,
     "metadata": {},
     "output_type": "execute_result"
    },
    {
     "data": {
      "image/png": "[encoded data removed]",
      "text/plain": [
       "<Figure size 640x480 with 1 Axes>"
      ]
     },
     "metadata": {},
     "output_type": "display_data"
    }
   ],
   "source": [
    "df['Company'].value_counts().plot(kind='bar')"
   ]
  },
  {
   "cell_type": "code",
   "execution_count": 11,
   "id": "3f3c916b-8c5a-4cc4-9ecf-2b0800ab3a2e",
   "metadata": {},
   "outputs": [
    {
     "data": {
      "text/plain": [
       "<Axes: xlabel='TypeName'>"
      ]
     },
     "execution_count": 11,
     "metadata": {},
     "output_type": "execute_result"
    },
    {
     "data": {
      "image/png": "[encoded data removed]",
      "text/plain": [
       "<Figure size 640x480 with 1 Axes>"
      ]
     },
     "metadata": {},
     "output_type": "display_data"
    }
   ],
   "source": [
    "df['TypeName'].value_counts().plot(kind='bar')"
   ]
  },
  {
   "cell_type": "code",
   "execution_count": 12,
   "id": "22b730bf-849d-4d35-aaf2-129d352b59d1",
   "metadata": {},
   "outputs": [
    {
     "data": {
      "image/png": "[encoded data removed]",
      "text/plain": [
       "<Figure size 640x480 with 1 Axes>"
      ]
     },
     "metadata": {},
     "output_type": "display_data"
    }
   ],
   "source": [
    "import seaborn as sns\n",
    "sns.barplot(x=df['Company'],y=df['Price'])\n",
    "plt.xticks(rotation='vertical')\n",
    "plt.show()"
   ]
  },
  {
   "cell_type": "code",
   "execution_count": null,
   "id": "f0f4da2e-ec45-4185-93b6-3c7eeb581f4f",
   "metadata": {},
   "outputs": [],
   "source": [
    "import seaborn as sns\n",
    "sns.barplot(x=df['TypeName'],y=df['Price'])\n",
    "plt.xticks(rotation='vertical')\n",
    "plt.show()"
   ]
  },
  {
   "cell_type": "code",
   "execution_count": null,
   "id": "7e844e24-e7db-4664-b96b-7dece8824722",
   "metadata": {},
   "outputs": [],
   "source": [
    "sns.scatterplot(x=df['Inches'],y=df[\"Price\"])\n",
    "plt.xticks(rotation='vertical')\n",
    "plt.show()"
   ]
  },
  {
   "cell_type": "code",
   "execution_count": null,
   "id": "c404e641-6e93-4ea0-9a90-16fef03ec35b",
   "metadata": {},
   "outputs": [],
   "source": [
    "# Example screen resolution column\n",
    "# Handle potential NaN values in 'ScreenResolution' by converting them to strings\n",
    "df['ScreenResolution'] = df['ScreenResolution'].astype(str)\n",
    "df['ScreenResolution_Retina'] = df['ScreenResolution'].apply(lambda x: 1 if 'Retina' in x else 0)\n",
    "df['ScreenResolution_Touchscreen'] = df['ScreenResolution'].apply(lambda x: 1 if 'Touchscreen' in x else 0)\n",
    "df['ScreenResolution_IPS'] = df['ScreenResolution'].apply(lambda x: 1 if 'IPS Panel' in x else 0)\n",
    "\n",
    "\n",
    "# Extract resolution (e.g., 1920x1080)\n",
    "def extract_resolution(s):\n",
    "    import re\n",
    "    match = re.search(r'(\\d+)x(\\d+)', s)\n",
    "    if match:\n",
    "        return int(match.group(1)), int(match.group(2))\n",
    "    else:\n",
    "        return None, None\n",
    "\n",
    "df['Resolution_width'], df['Resolution_height'] = zip(*df['ScreenResolution'].map(extract_resolution))\n",
    "\n",
    "# Optional: Calculate PPI (pixels per inch), needs 'Inches' column\n",
    "import numpy as np\n",
    "df['PPI'] = ((df['Resolution_width']**2 + df['Resolution_height']**2) ** 0.5) / df['Inches']\n",
    "df=df.drop(['ScreenResolution','Resolution_width','Resolution_height','Inches'],axis=1)"
   ]
  },
  {
   "cell_type": "code",
   "execution_count": null,
   "id": "8a26a0f0-3218-4d65-8b8d-2cfd39ba9644",
   "metadata": {},
   "outputs": [],
   "source": [
    "# Ensure it's a string column\n",
    "df['Cpu'] = df['Cpu'].astype(str)\n",
    "\n",
    "# Extract the brand (first word in most cases)\n",
    "df['Cpu brand'] = df['Cpu'].apply(lambda x: x.split()[0])\n",
    "\n",
    "import pandas as pd\n",
    "import re\n",
    "\n",
    "def extract_cpu_features(cpu_str):\n",
    "    cpu_str = str(cpu_str).strip()\n",
    "\n",
    "    # Brand\n",
    "    brand = 'Intel' if 'Intel' in cpu_str else 'AMD' if 'AMD' in cpu_str else 'Other'\n",
    "\n",
    "    # Type\n",
    "    types = ['i3', 'i5', 'i7', 'i9', 'Pentium', 'Celeron', 'Ryzen 3', 'Ryzen 5', 'Ryzen 7', 'Ryzen 9']\n",
    "    cpu_type = next((t for t in types if t in cpu_str), 'Other')\n",
    "\n",
    "    # Generation\n",
    "    match = re.search(r'\\d{4}', cpu_str)\n",
    "    if match:\n",
    "        model = match.group()\n",
    "        \n",
    "        if brand == 'Intel':\n",
    "            gen = int(model[:2])  # e.g., 10210 -> 10\n",
    "        elif 'Ryzen' in cpu_str:\n",
    "            gen = int(model[0])   # e.g., 5600 -> 5\n",
    "        else:\n",
    "            gen = None\n",
    "    else:\n",
    "        # Heuristic fallback for vague strings\n",
    "        if brand == 'Intel':\n",
    "            if '2.3GHz' in cpu_str:\n",
    "                gen = 7  # Roughly corresponds to 7th gen\n",
    "            elif '1.6GHz' in cpu_str:\n",
    "                gen = 8\n",
    "            else:\n",
    "                gen = 8  # Default to 8th gen\n",
    "        elif brand == 'AMD' and 'Ryzen' in cpu_str:\n",
    "            gen = 3  # Assume 3rd gen Ryzen\n",
    "        else:\n",
    "            gen = None\n",
    "\n",
    "    return pd.Series([brand, cpu_type, gen], index=['CPU_Brand', 'CPU_Type', 'CPU_Gen'])\n",
    "\n",
    "# Apply feature extraction\n",
    "df[['CPU_Brand', 'CPU_Type', 'CPU_Gen']] = df['Cpu'].apply(extract_cpu_features)\n",
    "\n",
    "\n",
    "# Convert CPU_Gen to numeric\n",
    "df['CPU_Gen'] = pd.to_numeric(df['CPU_Gen'], errors='coerce')\n",
    "df['CPU_Gen'] = df['CPU_Gen'].fillna(df['CPU_Gen'].median())\n",
    "\n",
    "# Encode Brand and Type (drop_first=True for multicollinearity)\n",
    "df = pd.get_dummies(df, columns=['CPU_Brand', 'CPU_Type'], drop_first=True)"
   ]
  },
  {
   "cell_type": "code",
   "execution_count": null,
   "id": "f353a3f1-def5-418b-88a5-d6040d1dbd4a",
   "metadata": {},
   "outputs": [],
   "source": [
    "import seaborn as sns\n",
    "sns.barplot(x=df['Cpu brand'],y=df['Price'])\n",
    "plt.xticks(rotation='vertical')\n",
    "plt.show()"
   ]
  },
  {
   "cell_type": "code",
   "execution_count": null,
   "id": "3c8ff9b8-024c-4789-a0ac-b03804272350",
   "metadata": {},
   "outputs": [],
   "source": [
    "import seaborn as sns\n",
    "sns.barplot(x=df['Ram'],y=df['Price'])\n",
    "plt.xticks(rotation='vertical')\n",
    "plt.show()"
   ]
  },
  {
   "cell_type": "code",
   "execution_count": null,
   "id": "ed9d4c3a-b4de-4a01-bc78-94a41f25ad6b",
   "metadata": {},
   "outputs": [],
   "source": [
    "\n",
    "import re\n",
    "\n",
    "# Function to extract memory types and sizes\n",
    "def clean_memory(val):\n",
    "    val = str(val)\n",
    "    hdd = ssd = hybrid = flash = 0\n",
    "\n",
    "    val = val.replace('2TB', '2000GB').replace('1.0TB', '1000GB').replace('1TB', '1000GB')\n",
    "\n",
    "    # Split memory configurations\n",
    "    parts = val.split('+')\n",
    "    for part in parts:\n",
    "        part = part.strip()\n",
    "        size_match = re.search(r'(\\d+)(GB)', part)\n",
    "        if not size_match:\n",
    "            continue\n",
    "        size = int(size_match.group(1))\n",
    "\n",
    "        if 'HDD' in part:\n",
    "            hdd += size\n",
    "        elif 'SSD' in part:\n",
    "            ssd += size\n",
    "        elif 'Hybrid' in part:\n",
    "            hybrid += size\n",
    "        elif 'Flash' in part:\n",
    "            flash += size\n",
    "        else:\n",
    "            ssd += size  # assume SSD if type unknown\n",
    "\n",
    "    return pd.Series([hdd, ssd, hybrid, flash], index=['Memory_HDD', 'Memory_SSD', 'Memory_Hybrid', 'Memory_Flash'])\n",
    "\n",
    "# Apply and replace in original DataFrame\n",
    "memory_features = df['Memory'].apply(clean_memory)\n",
    "df = pd.concat([df.drop('Memory', axis=1), memory_features], axis=1)\n"
   ]
  },
  {
   "cell_type": "code",
   "execution_count": null,
   "id": "ace1b77b-ec58-4f58-be3e-3063b2372308",
   "metadata": {},
   "outputs": [],
   "source": [
    "\n",
    "\n",
    " # Convert the 'Gpu' column to string type before applying the split function\n",
    " df['Gpu'] = df['Gpu'].astype(str)\n",
    " df['Gpu brand'] = df['Gpu'].apply(lambda x: x.split()[0])\n",
    " df['Gpu model'] = df['Gpu'].apply(lambda x: ' '.join(x.split()[1:]))\n",
    "df=df[df['Gpu brand']!= 'ARM']\n",
    "df['Gpu brand'].value_counts()\n",
    "df = pd.get_dummies(df, columns=['Gpu brand'], drop_first=True)\n",
    "\n",
    "# Step 2 (optional): Group Gpu models manually\n",
    "df['Gpu_type'] = df['Gpu model'].apply(lambda x:\n",
    "    'Integrated' if 'Intel' in x else\n",
    "    'Mid-range' if 'MX' in x else\n",
    "    'High-end' if 'GTX' in x or 'RTX' in x or 'Pro' in x else\n",
    "    'Other'\n",
    ")\n",
    "\n",
    "# Step 3: Convert Gpu_type to dummies\n",
    "df = pd.get_dummies(df, columns=['Gpu_type'], drop_first=True)\n"
   ]
  },
  {
   "cell_type": "code",
   "execution_count": null,
   "id": "5ca398a9-9eaa-4c1f-a976-41f02b5fba32",
   "metadata": {},
   "outputs": [],
   "source": [
    "df.head()"
   ]
  },
  {
   "cell_type": "code",
   "execution_count": null,
   "id": "f37fb52c-3ae0-4912-b15d-9726fb40ae03",
   "metadata": {},
   "outputs": [],
   "source": [
    "\n",
    "df=df.drop('Gpu',axis=1)\n",
    "def categorize_gpu(model):\n",
    "    model = str(model).lower()\n",
    "\n",
    "    # Integrated\n",
    "    if 'hd graphics' in model or 'uhd graphics' in model:\n",
    "        return 'Integrated'\n",
    "\n",
    "    # Entry Level\n",
    "    elif any(x in model for x in ['r5', 'r7 m360', 'm315', '920m', '940m']):\n",
    "        return 'Entry-Level'\n",
    "\n",
    "    # Mid Range (GTX 1050/1060/1650 etc.)\n",
    "    elif any(x in model for x in ['gtx 1050', 'gtx 950', 'gtx 960', 'gtx 1060', 'mx']):\n",
    "        return 'Mid-Range'\n",
    "\n",
    "    # High-End\n",
    "    elif any(x in model for x in ['gtx 1070', 'gtx 1080', 'rtx', 'rx 580']):\n",
    "        return 'High-End'\n",
    "\n",
    "    # Workstation\n",
    "    elif 'quadro' in model or 'firepro' in model:\n",
    "        return 'Workstation'\n",
    "\n",
    "    # Others\n",
    "    else:\n",
    "        return 'Other'\n",
    "\n",
    "df['Gpu_Category'] = df['Gpu model'].apply(categorize_gpu)\n",
    "# Extract the first number that appears in the model name\n",
    "df['Gpu_Number'] = df['Gpu model'].apply(lambda x: int(re.search(r'\\d+', str(x)).group()) if re.search(r'\\d+', str(x)) else np.nan)\n",
    "df = pd.get_dummies(df, columns=['Gpu_Category'], drop_first=True)\n",
    "df.head()"
   ]
  },
  {
   "cell_type": "code",
   "execution_count": null,
   "id": "c8ac5f22-043e-42d3-8158-882b0bf05c08",
   "metadata": {},
   "outputs": [],
   "source": [
    "df=df.drop(['Cpu','Gpu model'],axis=1)\n",
    "df.head()"
   ]
  },
  {
   "cell_type": "code",
   "execution_count": null,
   "id": "84745d1f-25b8-414f-9f34-7650fb3fda82",
   "metadata": {},
   "outputs": [],
   "source": [
    "df = pd.concat([df.drop('OpSys', axis=1), pd.get_dummies(df['OpSys'], prefix='OpSys', drop_first=True)], axis=1)\n",
    "df = pd.concat([df.drop('TypeName', axis=1), pd.get_dummies(df['TypeName'], prefix='TypeName', drop_first=True)], axis=1)\n",
    "df = pd.concat([df.drop('Company', axis=1), pd.get_dummies(df['Company'], prefix='Company', drop_first=True)], axis=1)"
   ]
  },
  {
   "cell_type": "code",
   "execution_count": null,
   "id": "e3048ac9-6ca2-4790-99cb-16eeb5984a94",
   "metadata": {},
   "outputs": [],
   "source": [
    "df.head()"
   ]
  },
  {
   "cell_type": "code",
   "execution_count": null,
   "id": "e1e93764-423c-4ae4-a8f1-9dbc3c09dc00",
   "metadata": {},
   "outputs": [],
   "source": [
    "df=df.drop('Cpu brand',axis=1)"
   ]
  },
  {
   "cell_type": "code",
   "execution_count": null,
   "id": "32ea1695-3a0a-4ff8-a878-f52ad0ee81ee",
   "metadata": {},
   "outputs": [],
   "source": [
    "df = df.astype({col: int for col in df.select_dtypes(include='bool').columns})\n",
    "df.head()"
   ]
  },
  {
   "cell_type": "code",
   "execution_count": null,
   "id": "e61b268c-1bf6-4949-8cb4-229c01a27c97",
   "metadata": {},
   "outputs": [],
   "source": [
    "sns.distplot(df['Price'])"
   ]
  },
  {
   "cell_type": "code",
   "execution_count": null,
   "id": "5f7ce2ae-26ed-42c4-aec4-246fbbef872a",
   "metadata": {},
   "outputs": [],
   "source": [
    "df['Price'] = np.log1p(df['Price'])"
   ]
  },
  {
   "cell_type": "code",
   "execution_count": null,
   "id": "b5a83960-0f40-4159-99d8-40d223dc992f",
   "metadata": {},
   "outputs": [],
   "source": [
    "sns.distplot(df['Price'])"
   ]
  },
  {
   "cell_type": "code",
   "execution_count": null,
   "id": "cca2c911-6b19-4be4-af95-b595a0713c6a",
   "metadata": {},
   "outputs": [],
   "source": [
    "x=df.drop('Price',axis=1)\n",
    "y=df['Price']"
   ]
  },
  {
   "cell_type": "code",
   "execution_count": null,
   "id": "f07d549a-571b-419e-b78f-c467b7e3d61c",
   "metadata": {},
   "outputs": [],
   "source": []
  },
  {
   "cell_type": "code",
   "execution_count": null,
   "id": "a6dc4a78-6aaf-406c-bac6-cd022bcc2fec",
   "metadata": {},
   "outputs": [],
   "source": [
    "\n",
    "from sklearn.model_selection import train_test_split\n",
    "X_train, X_test, y_train, y_test = train_test_split(x, y, test_size=0.2, random_state=42)\n"
   ]
  },
  {
   "cell_type": "code",
   "execution_count": null,
   "id": "bab82777-0544-40b9-a3e9-7f2ea5bcab81",
   "metadata": {},
   "outputs": [],
   "source": [
    "\n",
    "import matplotlib.pyplot as plt\n",
    "from sklearn.ensemble import RandomForestRegressor\n",
    "\n",
    "from xgboost import XGBRegressor\n",
    "\n",
    "from sklearn.metrics import r2_score, mean_squared_error, mean_absolute_error\n",
    "\n"
   ]
  },
  {
   "cell_type": "code",
   "execution_count": null,
   "id": "7bdd857e-0365-4288-a5f8-dfa6c5a3d1e5",
   "metadata": {},
   "outputs": [],
   "source": [
    "rf_model = RandomForestRegressor(n_estimators=100, random_state=42)\n",
    "rf_model.fit(X_train, y_train)\n",
    "\n",
    "# --- 5. Train XGBoost ---\n",
    "xgb_model = XGBRegressor(n_estimators=100, learning_rate=0.1, random_state=42)\n",
    "xgb_model.fit(X_train, y_train)"
   ]
  },
  {
   "cell_type": "code",
   "execution_count": null,
   "id": "6bad8de2-a0fd-4e27-add7-3f24eec76c4c",
   "metadata": {},
   "outputs": [],
   "source": [
    "y_pred_log_rf= rf_model.predict(X_test)\n",
    "y_pred_rf= np.expm1(y_pred_log_rf)\n",
    "y_pred_log_xgb = xgb_model.predict(X_test)\n",
    "y_pred_xgb= np.expm1(y_pred_log_xgb)"
   ]
  },
  {
   "cell_type": "code",
   "execution_count": null,
   "id": "3a718405-0252-481b-b751-e10b44d12485",
   "metadata": {},
   "outputs": [],
   "source": [
    "y_test_original = np.expm1(y_test)"
   ]
  },
  {
   "cell_type": "code",
   "execution_count": null,
   "id": "a863902d-8a55-4fb2-849b-6a83ab66d21c",
   "metadata": {},
   "outputs": [],
   "source": [
    "def evaluate_model(y_true, y_pred, model_name):\n",
    "    print(f\"\\n📈 Evaluation Metrics for {model_name}:\")\n",
    "    print(f\"R² Score       : {r2_score(y_true, y_pred):.4f}\")\n",
    "    print(f\"RMSE           : {np.sqrt(mean_squared_error(y_true, y_pred)):.4f}\")\n",
    "    print(f\"MAE            : {mean_absolute_error(y_true, y_pred):.4f}\")\n",
    "\n",
    "# Evaluate both models\n",
    "evaluate_model(y_test_original, y_pred_rf, \"Random Forest\")\n",
    "evaluate_model(y_test_original, y_pred_xgb, \"XGBoost\")"
   ]
  },
  {
   "cell_type": "code",
   "execution_count": null,
   "id": "3c11b50f-c072-4f2a-af39-08872fb6f15e",
   "metadata": {},
   "outputs": [],
   "source": [
    "sample = {\n",
    "    'Company': ['Asus','Acer','Apple'],\n",
    "    'TypeName': ['Gaming', 'Ultrabook','Ultrabook'],\n",
    "    'Ram': ['8GB','8GB','8GB'],\n",
    "    'Memory': ['256GB SSD +  1TB HDD', '256GB SSD', '256GB SSD'],\n",
    "    'GPU': ['AMD Radeon RX 580', 'Intel UHD Graphics 620', 'Intel Iris Plus Graphics 650'],\n",
    "    'OpSys': ['Windows 10','Windows 10','macOS'],\n",
    "    'Weight': [ '3.2kg','1.6kg','1.37kg'],\n",
    "    'Inches': [17.3,14,13.3],\n",
    "    'ScreenResolution': ['Full HD 1920x1080',\n",
    "                         'IPS Panel Full HD 1920x1080',\n",
    "                         'IPS Panel Retina Display 2560x1600'],\n",
    "    'Cpu': ['AMD Ryzen 1700 3GHz', 'Intel Core i5 8250U 1.6GHz\t', 'Intel Core i5 3.1GHz']\n",
    "}\n",
    "\n",
    "\n",
    "import pandas as pd\n",
    "df_sample = pd.DataFrame(sample)\n",
    "print(df_sample)\n"
   ]
  },
  {
   "cell_type": "code",
   "execution_count": null,
   "id": "beb53fe0-71e9-482a-95de-aaf70250781c",
   "metadata": {},
   "outputs": [],
   "source": [
    "df_sample['Weight']=df_sample['Weight'].str.replace('kg','')\n",
    "df_sample['Ram']=df_sample['Ram'].str.replace('GB','')\n",
    "df_sample['Weight']=pd.to_numeric(df_sample['Weight'], errors='coerce')\n",
    "df_sample['Inches']=pd.to_numeric(df_sample['Inches'], errors='coerce')\n",
    "df_sample['Ram']=pd.to_numeric(df_sample['Ram'], errors='coerce')"
   ]
  },
  {
   "cell_type": "code",
   "execution_count": null,
   "id": "d2b4251f-31f0-4dc5-b769-c97a62325806",
   "metadata": {},
   "outputs": [],
   "source": [
    "# Example screen resolution column\n",
    "# Handle potential NaN values in 'ScreenResolution' by converting them to strings\n",
    "df_sample['ScreenResolution'] = df_sample['ScreenResolution'].astype(str)\n",
    "df_sample['ScreenResolution_Retina'] = df_sample['ScreenResolution'].apply(lambda x: 1 if 'Retina' in x else 0)\n",
    "df_sample['ScreenResolution_Touchscreen'] = df_sample['ScreenResolution'].apply(lambda x: 1 if 'Touchscreen' in x else 0)\n",
    "df_sample['ScreenResolution_IPS'] = df_sample['ScreenResolution'].apply(lambda x: 1 if 'IPS Panel' in x else 0)\n",
    "\n",
    "\n",
    "# Extract resolution (e.g., 1920x1080)\n",
    "def extract_resolution(s):\n",
    "    import re\n",
    "    match = re.search(r'(\\d+)x(\\d+)', s)\n",
    "    if match:\n",
    "        return int(match.group(1)), int(match.group(2))\n",
    "    else:\n",
    "        return None, None\n",
    "\n",
    "df_sample['Resolution_width'], df_sample['Resolution_height'] = zip(*df_sample['ScreenResolution'].map(extract_resolution))\n",
    "\n",
    "# Optional: Calculate PPI (pixels per inch), needs 'Inches' column\n",
    "import numpy as np\n",
    "df_sample['PPI'] = ((df_sample['Resolution_width']**2 + df_sample['Resolution_height']**2) ** 0.5) / df_sample['Inches']\n",
    "df_sample=df_sample.drop(['ScreenResolution','Resolution_width','Resolution_height','Inches'],axis=1)"
   ]
  },
  {
   "cell_type": "code",
   "execution_count": null,
   "id": "f08dbfd1-bfc3-4d24-bc3c-12da5a491b69",
   "metadata": {},
   "outputs": [],
   "source": [
    "df_sample.head()"
   ]
  },
  {
   "cell_type": "code",
   "execution_count": null,
   "id": "aedffb20-478a-4be0-8f59-8321ff6cfb54",
   "metadata": {},
   "outputs": [],
   "source": [
    "# Ensure it's a string column\n",
    "df_sample['Cpu'] = df_sample['Cpu'].astype(str)\n",
    "\n",
    "# Extract the brand (first word in most cases)\n",
    "df_sample['Cpu brand'] = df_sample['Cpu'].apply(lambda x: x.split()[0])\n",
    "\n",
    "import pandas as pd\n",
    "import re\n",
    "\n",
    "def extract_cpu_features(cpu_str):\n",
    "    cpu_str = str(cpu_str).strip()\n",
    "\n",
    "    # Brand\n",
    "    brand = 'Intel' if 'Intel' in cpu_str else 'AMD' if 'AMD' in cpu_str else 'Other'\n",
    "\n",
    "    # Type\n",
    "    types = ['i3', 'i5', 'i7', 'i9', 'Pentium', 'Celeron', 'Ryzen 3', 'Ryzen 5', 'Ryzen 7', 'Ryzen 9']\n",
    "    cpu_type = next((t for t in types if t in cpu_str), 'Other')\n",
    "\n",
    "    # Generation\n",
    "    match = re.search(r'\\d{4,5}', cpu_str)\n",
    "    if match:\n",
    "        model = match.group()\n",
    "        \n",
    "        if brand == 'Intel':\n",
    "            gen = int(model[:2])  # e.g., 10210 -> 10\n",
    "        elif 'Ryzen' in cpu_str:\n",
    "            gen = int(model[0])   # e.g., 5600 -> 5\n",
    "        else:\n",
    "            gen = None\n",
    "    else:\n",
    "        # Heuristic fallback for vague strings\n",
    "        if brand == 'Intel':\n",
    "            if '2.3GHz' in cpu_str:\n",
    "                gen = 7  # Roughly corresponds to 7th gen\n",
    "            elif '1.6GHz' in cpu_str:\n",
    "                gen = 8\n",
    "            else:\n",
    "                gen = 8  # Default to 8th gen\n",
    "        elif brand == 'AMD' and 'Ryzen' in cpu_str:\n",
    "            gen = 3  # Assume 3rd gen Ryzen\n",
    "        else:\n",
    "            gen = None\n",
    "\n",
    "    return pd.Series([brand, cpu_type, gen], index=['CPU_Brand', 'CPU_Type', 'CPU_Gen'])\n",
    "\n",
    "# Apply feature extraction\n",
    "df_sample[['CPU_Brand', 'CPU_Type', 'CPU_Gen']] = df_sample['Cpu'].apply(extract_cpu_features)\n",
    "\n",
    "# Convert CPU_Gen to numeric\n",
    "df_sample['CPU_Gen'] = pd.to_numeric(df_sample['CPU_Gen'], errors='coerce')\n",
    "df_sample['CPU_Gen'] = df_sample['CPU_Gen'].fillna(df_sample['CPU_Gen'].median())\n",
    "\n",
    "# Encode Brand and Type (drop_first=True for multicollinearity)\n",
    "df_sample = pd.get_dummies(df_sample, columns=['CPU_Brand', 'CPU_Type'], drop_first=True)"
   ]
  },
  {
   "cell_type": "code",
   "execution_count": null,
   "id": "fe27275b-623b-47ab-b67b-b89d064b19d9",
   "metadata": {},
   "outputs": [],
   "source": [
    "df_sample.head()"
   ]
  },
  {
   "cell_type": "code",
   "execution_count": null,
   "id": "9e8ce4c5-ff60-400b-b84f-9279e214e3ba",
   "metadata": {},
   "outputs": [],
   "source": [
    "df_sample=df_sample.drop(['Cpu',\"Cpu brand\"],axis=1)\n",
    "df_sample.head()"
   ]
  },
  {
   "cell_type": "code",
   "execution_count": null,
   "id": "fd9b63c1-1465-468e-bdf9-6f91eea40cd9",
   "metadata": {},
   "outputs": [],
   "source": [
    "\n",
    "import re\n",
    "\n",
    "# Function to extract memory types and sizes\n",
    "def clean_memory(val):\n",
    "    val = str(val)\n",
    "    hdd = ssd = hybrid = flash = 0\n",
    "\n",
    "    val = val.replace('2TB', '2000GB').replace('1.0TB', '1000GB').replace('1TB', '1000GB')\n",
    "\n",
    "    # Split memory configurations\n",
    "    parts = val.split('+')\n",
    "    for part in parts:\n",
    "        part = part.strip()\n",
    "        size_match = re.search(r'(\\d+)(GB)', part)\n",
    "        if not size_match:\n",
    "            continue\n",
    "        size = int(size_match.group(1))\n",
    "\n",
    "        if 'HDD' in part:\n",
    "            hdd += size\n",
    "        elif 'SSD' in part:\n",
    "            ssd += size\n",
    "        elif 'Hybrid' in part:\n",
    "            hybrid += size\n",
    "        elif 'Flash' in part:\n",
    "            flash += size\n",
    "        else:\n",
    "            ssd += size  # assume SSD if type unknown\n",
    "\n",
    "    return pd.Series([hdd, ssd, hybrid, flash], index=['Memory_HDD', 'Memory_SSD', 'Memory_Hybrid', 'Memory_Flash'])\n",
    "\n",
    "# Apply and replace in original DataFrame\n",
    "memory_features = df_sample['Memory'].apply(clean_memory)\n",
    "df_sample = pd.concat([df_sample.drop('Memory', axis=1), memory_features], axis=1)\n",
    "df_sample=df_sample.drop(['Memory_Hybrid','Memory_Flash'],axis=1)"
   ]
  },
  {
   "cell_type": "code",
   "execution_count": null,
   "id": "e8bd9d18-445c-40b1-834c-f540c302b52b",
   "metadata": {},
   "outputs": [],
   "source": [
    " # Convert the 'Gpu' column to string type before applying the split function\n",
    " df_sample['GPU'] = df_sample['GPU'].astype(str)\n",
    " df_sample['Gpu brand'] = df_sample['GPU'].apply(lambda x: x.split()[0])\n",
    " df_sample['Gpu model'] = df_sample['GPU'].apply(lambda x: ' '.join(x.split()[1:]))\n",
    "df_sample=df_sample[df_sample['Gpu brand']!= 'ARM']\n",
    "df_sample['Gpu brand'].value_counts()\n",
    "df_sample = pd.get_dummies(df_sample, columns=['Gpu brand'], drop_first=True)\n",
    "\n",
    "# Step 2 (optional): Group Gpu models manually\n",
    "df_sample['Gpu_type'] = df_sample['Gpu model'].apply(lambda x:\n",
    "    'Integrated' if 'Intel' in x else\n",
    "    'Mid-range' if 'MX' in x else\n",
    "    'High-end' if 'GTX' in x or 'RTX' in x or 'Pro' in x else\n",
    "    'Other'\n",
    ")\n",
    "\n",
    "# Step 3: Convert Gpu_type to dummies\n",
    "df_sample = pd.get_dummies(df_sample, columns=['Gpu_type'], drop_first=True)"
   ]
  },
  {
   "cell_type": "code",
   "execution_count": null,
   "id": "075a831d-d4cd-4da3-a884-a17bba8976c5",
   "metadata": {},
   "outputs": [],
   "source": [
    "df_sample.head()"
   ]
  },
  {
   "cell_type": "code",
   "execution_count": null,
   "id": "0defa94e-cacc-4a06-b6b7-ac427e8f3356",
   "metadata": {},
   "outputs": [],
   "source": [
    "\n",
    "df_sample=df_sample.drop('GPU',axis=1)\n",
    "def categorize_gpu(model):\n",
    "    model = str(model).lower()\n",
    "\n",
    "    # Integrated\n",
    "    if ('hd graphics' in model or 'uhd graphics' in model or ' iris graphics' in model or'iris plus' in model):\n",
    "        return 'Integrated'\n",
    "\n",
    "    # Entry Level\n",
    "    elif any(x in model for x in ['r5', 'r7 m360', 'm315', '920m', '940m']):\n",
    "        return 'Entry-Level'\n",
    "\n",
    "    # Mid Range (GTX 1050/1060/1650 etc.)\n",
    "    elif any(x in model for x in ['gtx 1050', 'gtx 950', 'gtx 960', 'gtx 1060', 'mx']):\n",
    "        return 'Mid-Range'\n",
    "\n",
    "    # High-End\n",
    "    elif any(x in model for x in ['gtx 1070', 'gtx 1080', 'rtx', 'rx 580']):\n",
    "        return 'High-End'\n",
    "\n",
    "    # Workstation\n",
    "    elif 'quadro' in model or 'firepro' in model:\n",
    "        return 'Workstation'\n",
    "\n",
    "    # Others\n",
    "    else:\n",
    "        return 'Other'\n",
    "\n",
    "df_sample['Gpu_Category'] = df_sample['Gpu model'].apply(categorize_gpu)\n",
    "# Extract the first number that appears in the model name\n",
    "df_sample['Gpu_Number'] = df_sample['Gpu model'].apply(lambda x: int(re.search(r'\\d+', str(x)).group()) if re.search(r'\\d+', str(x)) else np.nan)\n",
    "df_sample = pd.get_dummies(df_sample, columns=['Gpu_Category'], drop_first=True)\n",
    "df_sample.head()"
   ]
  },
  {
   "cell_type": "code",
   "execution_count": null,
   "id": "13ee77d5-b433-445b-bc92-7bf12b66912e",
   "metadata": {},
   "outputs": [],
   "source": [
    "df_sample.columns"
   ]
  },
  {
   "cell_type": "code",
   "execution_count": null,
   "id": "f70af7ed-6b13-40f8-8d63-9b12c74e4673",
   "metadata": {},
   "outputs": [],
   "source": [
    "df_sample=df_sample.drop('Gpu model',axis=1)"
   ]
  },
  {
   "cell_type": "code",
   "execution_count": null,
   "id": "531397f7-05ba-4b7a-8b47-74543a05a93f",
   "metadata": {},
   "outputs": [],
   "source": [
    "df_sample.head()"
   ]
  },
  {
   "cell_type": "code",
   "execution_count": null,
   "id": "3b627521-9fd5-49fb-a2b1-155eba6e39c0",
   "metadata": {},
   "outputs": [],
   "source": [
    "df_sample = pd.concat([df_sample.drop('OpSys', axis=1), pd.get_dummies(df_sample['OpSys'], prefix='OpSys', drop_first=True)], axis=1)\n",
    "df_sample = pd.concat([df_sample.drop('TypeName', axis=1), pd.get_dummies(df_sample['TypeName'], prefix='TypeName', drop_first=True)], axis=1)\n",
    "df_sample = pd.concat([df_sample.drop('Company', axis=1), pd.get_dummies(df_sample['Company'], prefix='Company', drop_first=True)], axis=1)"
   ]
  },
  {
   "cell_type": "code",
   "execution_count": null,
   "id": "da083097-aebe-46a0-864f-d1284a98f2a4",
   "metadata": {},
   "outputs": [],
   "source": [
    "df_sample.columns"
   ]
  },
  {
   "cell_type": "code",
   "execution_count": null,
   "id": "1c6006ff-5d67-483b-9fc3-ce06da2d96cd",
   "metadata": {},
   "outputs": [],
   "source": [
    "# Align with training data columns\n",
    "df_sample = df_sample.reindex(columns=X_train.columns, fill_value=0)\n",
    "df_sample.head()"
   ]
  },
  {
   "cell_type": "code",
   "execution_count": null,
   "id": "2cd2296c-76e4-4e6c-b0b8-f6a9aaef4e3e",
   "metadata": {},
   "outputs": [],
   "source": [
    "y_pred_log = xgb_model.predict(df_sample)\n",
    "predicted_prices = np.expm1(y_pred_log)\n",
    "\n",
    "for i, price in enumerate(predicted_prices):\n",
    "    print(f\"Laptop {i+1} predicted price: ₹{price:,.2f}\")\n"
   ]
  },
  {
   "cell_type": "code",
   "execution_count": null,
   "id": "9d9b88ef-81ab-4d35-a62c-0f006b8ad77d",
   "metadata": {},
   "outputs": [],
   "source": []
  }
 ],
 "metadata": {
  "kernelspec": {
   "display_name": "Python 3 (ipykernel)",
   "language": "python",
   "name": "python3"
  },
  "language_info": {
   "codemirror_mode": {
    "name": "ipython",
    "version": 3
   },
   "file_extension": ".py",
   "mimetype": "text/x-python",
   "name": "python",
   "nbconvert_exporter": "python",
   "pygments_lexer": "ipython3",
   "version": "3.12.7"
  }
 },
 "nbformat": 4,
 "nbformat_minor": 5
}
